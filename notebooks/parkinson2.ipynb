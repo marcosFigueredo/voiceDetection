{
 "cells": [
  {
   "cell_type": "code",
   "execution_count": 1,
   "metadata": {},
   "outputs": [
    {
     "ename": "ModuleNotFoundError",
     "evalue": "No module named 'librosa'",
     "output_type": "error",
     "traceback": [
      "\u001b[1;31m---------------------------------------------------------------------------\u001b[0m",
      "\u001b[1;31mModuleNotFoundError\u001b[0m                       Traceback (most recent call last)",
      "Cell \u001b[1;32mIn[1], line 2\u001b[0m\n\u001b[0;32m      1\u001b[0m \u001b[39mimport\u001b[39;00m \u001b[39mnumpy\u001b[39;00m \u001b[39mas\u001b[39;00m \u001b[39mnp\u001b[39;00m\n\u001b[1;32m----> 2\u001b[0m \u001b[39mimport\u001b[39;00m \u001b[39mlibrosa\u001b[39;00m\n\u001b[0;32m      3\u001b[0m \u001b[39mfrom\u001b[39;00m \u001b[39msklearn\u001b[39;00m\u001b[39m.\u001b[39;00m\u001b[39mneural_network\u001b[39;00m \u001b[39mimport\u001b[39;00m MLPClassifier\n\u001b[0;32m      5\u001b[0m \u001b[39m# Carregar o modelo treinado\u001b[39;00m\n",
      "\u001b[1;31mModuleNotFoundError\u001b[0m: No module named 'librosa'"
     ]
    }
   ],
   "source": [
    "import numpy as np\n",
    "import librosa\n",
    "from sklearn.neural_network import MLPClassifier\n",
    "\n",
    "# Carregar o modelo treinado\n",
    "model = MLPClassifier()\n",
    "model.load('modelo_mlp.h5')\n",
    "\n",
    "# Carregar o arquivo de áudio\n",
    "audio_path = 'caminho/para/arquivo_de_audio.wav'\n",
    "y, sr = librosa.load(audio_path)\n",
    "\n",
    "# Extrair as características do áudio\n",
    "chroma_stft = librosa.feature.chroma_stft(y=y, sr=sr)\n",
    "rmse = librosa.feature.rms(y=y)\n",
    "spec_cent = librosa.feature.spectral_centroid(y=y, sr=sr)\n",
    "spec_bw = librosa.feature.spectral_bandwidth(y=y, sr=sr)\n",
    "rolloff = librosa.feature.spectral_rolloff(y=y, sr=sr)\n",
    "zcr = librosa.feature.zero_crossing_rate(y)\n",
    "\n",
    "features = np.concatenate((chroma_stft, rmse, spec_cent, spec_bw, rolloff, zcr), axis=0)\n",
    "\n",
    "# Fazer a previsão com o modelo\n",
    "prediction = model.predict(features.reshape(1, -1))\n",
    "\n",
    "# Imprimir o resultado\n",
    "if prediction == 0:\n",
    "    print('O modelo prevê que a voz no arquivo não tem Parkinson.')\n",
    "else:\n",
    "    print('O modelo prevê que a voz no arquivo tem Parkinson.')\n"
   ]
  },
  {
   "cell_type": "code",
   "execution_count": null,
   "metadata": {},
   "outputs": [],
   "source": []
  }
 ],
 "metadata": {
  "kernelspec": {
   "display_name": "base",
   "language": "python",
   "name": "python3"
  },
  "language_info": {
   "codemirror_mode": {
    "name": "ipython",
    "version": 3
   },
   "file_extension": ".py",
   "mimetype": "text/x-python",
   "name": "python",
   "nbconvert_exporter": "python",
   "pygments_lexer": "ipython3",
   "version": "3.9.16"
  },
  "orig_nbformat": 4
 },
 "nbformat": 4,
 "nbformat_minor": 2
}
