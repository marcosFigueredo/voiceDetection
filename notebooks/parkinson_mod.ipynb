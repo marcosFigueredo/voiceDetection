{
 "cells": [
  {
   "cell_type": "code",
   "execution_count": 2,
   "metadata": {},
   "outputs": [
    {
     "name": "stderr",
     "output_type": "stream",
     "text": [
      "C:\\Users\\mbfigueredo\\AppData\\Local\\Temp\\ipykernel_26540\\2216846463.py:13: FutureWarning: iteritems is deprecated and will be removed in a future version. Use .items instead.\n",
      "  for i, val in df_parkinson[col].iteritems():\n",
      "C:\\Users\\mbfigueredo\\AppData\\Local\\Temp\\ipykernel_26540\\2216846463.py:18: FutureWarning: iteritems is deprecated and will be removed in a future version. Use .items instead.\n",
      "  for i, val in df_aleatorio[col].iteritems():\n"
     ]
    }
   ],
   "source": [
    "import pandas as pd\n",
    "import numpy as np\n",
    "\n",
    "# Definir o valor máximo do ruído gerado aleatoriamente\n",
    "ruido_maximo = 0.0001\n",
    "\n",
    "# Ler as tabelas em dataframes separados\n",
    "df_parkinson = pd.read_csv('parkinsons.data')\n",
    "df_aleatorio = pd.read_csv('parkinsons_aleatorio_1.csv')\n",
    "\n",
    "# Substituir as células com valor zero por ruído aleatório\n",
    "for col in df_parkinson.columns:\n",
    "    for i, val in df_parkinson[col].iteritems():\n",
    "        if val == 0:\n",
    "            df_parkinson.at[i, col] = np.random.uniform(0, ruido_maximo)\n",
    "            \n",
    "for col in df_aleatorio.columns:\n",
    "    for i, val in df_aleatorio[col].iteritems():\n",
    "        if val == 0:\n",
    "            df_aleatorio.at[i, col] = np.random.uniform(0, ruido_maximo)\n",
    "\n",
    "# Salvar as tabelas modificadas em arquivos separados\n",
    "df_parkinson.to_csv('parkinsons_ruido.csv', index=False)\n",
    "df_aleatorio.to_csv('parkinsons_aleatorio_ruido.csv', index=False)\n"
   ]
  }
 ],
 "metadata": {
  "kernelspec": {
   "display_name": "base",
   "language": "python",
   "name": "python3"
  },
  "language_info": {
   "codemirror_mode": {
    "name": "ipython",
    "version": 3
   },
   "file_extension": ".py",
   "mimetype": "text/x-python",
   "name": "python",
   "nbconvert_exporter": "python",
   "pygments_lexer": "ipython3",
   "version": "3.9.16"
  },
  "orig_nbformat": 4
 },
 "nbformat": 4,
 "nbformat_minor": 2
}
