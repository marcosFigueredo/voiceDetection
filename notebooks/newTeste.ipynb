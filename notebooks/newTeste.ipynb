{
 "cells": [
  {
   "cell_type": "code",
   "execution_count": 44,
   "metadata": {},
   "outputs": [],
   "source": [
    "import numpy as np\n",
    "import librosa\n",
    "import os\n",
    "import wave\n",
    "\n",
    "def preprocess_audio(audio_path):\n",
    "    # Carregar o arquivo de áudio\n",
    "    with wave.open(audio_path, 'rb') as audio_file:\n",
    "        # Obter os parâmetros do áudio\n",
    "        sr = audio_file.getframerate()\n",
    "        n_channels = audio_file.getnchannels()\n",
    "        sample_width = audio_file.getsampwidth()\n",
    "        n_frames = audio_file.getnframes()\n",
    "\n",
    "        # Ler todos os quadros de áudio como bytes\n",
    "        audio_frames = audio_file.readframes(n_frames)\n",
    "    print('audio_frames carregado')\n",
    "    # Converter os bytes em um array numpy com o formato correto\n",
    "    audio_array = np.frombuffer(audio_frames, dtype=np.int16)\n",
    "    print('audio_frames carregado 2')\n",
    "\n",
    "    # Redimensionar o array para um vetor unidimensional\n",
    "    if n_channels > 1:\n",
    "        audio_array = audio_array.reshape(-1, n_channels)[:, 0]\n",
    "    print('audio_frames carregado 3')\n",
    "\n",
    "    # Padronizar a taxa de amostragem em 22 kHz\n",
    "    y = audio_array.astype(np.float32) / np.iinfo(sample_width).max\n",
    "    y = np.interp(np.arange(0, len(y), len(y) / (sr * 22)), np.arange(0, len(y)), y)\n",
    "    \n",
    "    print('audio_frames carregado 4')\n",
    "\n",
    "    # Extrair as características do áudio\n",
    "    chroma_stft = librosa.feature.chroma_stft(y=y, sr=22050)\n",
    "    rmse = librosa.feature.rms(y=y)\n",
    "    spec_cent = librosa.feature.spectral_centroid(y=y, sr=22050)\n",
    "    spec_bw = librosa.feature.spectral_bandwidth(y=y, sr=22050)\n",
    "    rolloff = librosa.feature.spectral_rolloff(y=y, sr=22050)\n",
    "    zcr = librosa.feature.zero_crossing_rate(y)\n",
    "\n",
    "    print('audio_frames carregado 5')\n",
    "\n",
    "    # Concatenar as características em um vetor unidimensional\n",
    "    features = np.concatenate([chroma_stft.mean(axis=1), rmse, spec_cent, spec_bw, rolloff, zcr])\n",
    "    print('audio_frames carregado 6')\n",
    "    # Redimensionar o vetor de características para o formato esperado pela rede neural\n",
    "    features = features.reshape(1, -1)\n",
    "    print('audio_frames carregado 7')\n",
    "    return features\n"
   ]
  },
  {
   "cell_type": "code",
   "execution_count": 29,
   "metadata": {},
   "outputs": [],
   "source": [
    "from keras.models import load_model\n",
    "\n",
    "def load_model_from_h5(h5_file_path):\n",
    "    model = load_model(h5_file_path)\n",
    "    return model"
   ]
  },
  {
   "cell_type": "code",
   "execution_count": 30,
   "metadata": {},
   "outputs": [],
   "source": [
    "import os\n",
    "\n",
    "def get_h5_files(folder_path):\n",
    "    h5_files = []\n",
    "    for filename in os.listdir(folder_path):\n",
    "        if filename.endswith('.h5'):\n",
    "            h5_files.append(os.path.join(folder_path, filename))\n",
    "    return h5_files"
   ]
  },
  {
   "cell_type": "code",
   "execution_count": 31,
   "metadata": {},
   "outputs": [],
   "source": [
    "import h5py\n",
    "\n",
    "def test_audio_file(h5_folder_path):\n",
    "    # Carregar o arquivo de áudio e extrair as características\n",
    "    features = preprocess_audio()\n",
    "\n",
    "    # Percorrer cada arquivo h5 na pasta\n",
    "    for h5_file_path in get_h5_files(h5_folder_path):\n",
    "        # Carregar o modelo a partir do arquivo h5\n",
    "        model = load_model(h5_file_path)\n",
    "\n",
    "        # Realizar a predição para o arquivo de áudio\n",
    "        prediction = model.predict(features)\n",
    "\n",
    "        # Imprimir o resultado da predição\n",
    "        print(f'{os.path.basename(h5_file_path)}: {prediction[0][0]}')"
   ]
  },
  {
   "cell_type": "code",
   "execution_count": 32,
   "metadata": {},
   "outputs": [],
   "source": [
    "import os\n",
    "from tensorflow.keras.models import load_model\n",
    "from sklearn.metrics import classification_report\n",
    "\n",
    "def evaluate_models(audio_data):\n",
    "    # lista os arquivos .h5\n",
    "    h5_files = [f for f in os.listdir('.') if f.endswith('.h5')]\n",
    "\n",
    "    # carrega cada modelo e avalia o desempenho no conjunto de teste\n",
    "    metrics = {}\n",
    "    for h5_file in h5_files:\n",
    "        # carrega o modelo\n",
    "        model = load_model(h5_file)\n",
    "\n",
    "        # avalia o desempenho no conjunto de teste\n",
    "        y_true = [0] # ou [1], dependendo se o áudio é de um paciente com parkinson ou não\n",
    "        y_pred = model.predict(audio_data)\n",
    "        y_pred = [1 if p > 0.5 else 0 for p in y_pred] # converte as probabilidades em classes (0 ou 1)\n",
    "        metrics[h5_file] = classification_report(y_true, y_pred)\n",
    "\n",
    "    return metrics\n"
   ]
  },
  {
   "cell_type": "code",
   "execution_count": 45,
   "metadata": {},
   "outputs": [
    {
     "name": "stdout",
     "output_type": "stream",
     "text": [
      "audio_frames carregado\n",
      "audio_frames carregado 2\n",
      "audio_frames carregado 3\n",
      "audio_frames carregado 4\n"
     ]
    },
    {
     "ename": "KeyboardInterrupt",
     "evalue": "",
     "output_type": "error",
     "traceback": [
      "\u001b[1;31m---------------------------------------------------------------------------\u001b[0m",
      "\u001b[1;31mPermissionError\u001b[0m                           Traceback (most recent call last)",
      "File \u001b[1;32mc:\\ProgramData\\Anaconda3\\lib\\tempfile.py:255\u001b[0m, in \u001b[0;36m_mkstemp_inner\u001b[1;34m(dir, pre, suf, flags, output_type)\u001b[0m\n\u001b[0;32m    254\u001b[0m \u001b[39mtry\u001b[39;00m:\n\u001b[1;32m--> 255\u001b[0m     fd \u001b[39m=\u001b[39m _os\u001b[39m.\u001b[39;49mopen(file, flags, \u001b[39m0o600\u001b[39;49m)\n\u001b[0;32m    256\u001b[0m \u001b[39mexcept\u001b[39;00m \u001b[39mFileExistsError\u001b[39;00m:\n",
      "\u001b[1;31mPermissionError\u001b[0m: [Errno 13] Permission denied: 'c:\\\\ProgramData\\\\Anaconda3\\\\lib\\\\site-packages\\\\librosa\\\\core\\\\__pycache__\\\\tmp4yg3qzci'",
      "\nDuring handling of the above exception, another exception occurred:\n",
      "\u001b[1;31mKeyboardInterrupt\u001b[0m                         Traceback (most recent call last)",
      "Cell \u001b[1;32mIn[45], line 2\u001b[0m\n\u001b[0;32m      1\u001b[0m audio_path \u001b[39m=\u001b[39m \u001b[39m'\u001b[39m\u001b[39maudio/paciente1.wav\u001b[39m\u001b[39m'\u001b[39m\n\u001b[1;32m----> 2\u001b[0m features \u001b[39m=\u001b[39m preprocess_audio(audio_path)\n",
      "Cell \u001b[1;32mIn[44], line 34\u001b[0m, in \u001b[0;36mpreprocess_audio\u001b[1;34m(audio_path)\u001b[0m\n\u001b[0;32m     31\u001b[0m \u001b[39mprint\u001b[39m(\u001b[39m'\u001b[39m\u001b[39maudio_frames carregado 4\u001b[39m\u001b[39m'\u001b[39m)\n\u001b[0;32m     33\u001b[0m \u001b[39m# Extrair as características do áudio\u001b[39;00m\n\u001b[1;32m---> 34\u001b[0m chroma_stft \u001b[39m=\u001b[39m librosa\u001b[39m.\u001b[39;49mfeature\u001b[39m.\u001b[39;49mchroma_stft(y\u001b[39m=\u001b[39my, sr\u001b[39m=\u001b[39m\u001b[39m22050\u001b[39m)\n\u001b[0;32m     35\u001b[0m rmse \u001b[39m=\u001b[39m librosa\u001b[39m.\u001b[39mfeature\u001b[39m.\u001b[39mrms(y\u001b[39m=\u001b[39my)\n\u001b[0;32m     36\u001b[0m spec_cent \u001b[39m=\u001b[39m librosa\u001b[39m.\u001b[39mfeature\u001b[39m.\u001b[39mspectral_centroid(y\u001b[39m=\u001b[39my, sr\u001b[39m=\u001b[39m\u001b[39m22050\u001b[39m)\n",
      "File \u001b[1;32mc:\\ProgramData\\Anaconda3\\lib\\site-packages\\lazy_loader\\__init__.py:76\u001b[0m, in \u001b[0;36mattach.<locals>.__getattr__\u001b[1;34m(name)\u001b[0m\n\u001b[0;32m     74\u001b[0m \u001b[39melif\u001b[39;00m name \u001b[39min\u001b[39;00m attr_to_modules:\n\u001b[0;32m     75\u001b[0m     submod_path \u001b[39m=\u001b[39m \u001b[39mf\u001b[39m\u001b[39m\"\u001b[39m\u001b[39m{\u001b[39;00mpackage_name\u001b[39m}\u001b[39;00m\u001b[39m.\u001b[39m\u001b[39m{\u001b[39;00mattr_to_modules[name]\u001b[39m}\u001b[39;00m\u001b[39m\"\u001b[39m\n\u001b[1;32m---> 76\u001b[0m     submod \u001b[39m=\u001b[39m importlib\u001b[39m.\u001b[39;49mimport_module(submod_path)\n\u001b[0;32m     77\u001b[0m     attr \u001b[39m=\u001b[39m \u001b[39mgetattr\u001b[39m(submod, name)\n\u001b[0;32m     79\u001b[0m     \u001b[39m# If the attribute lives in a file (module) with the same\u001b[39;00m\n\u001b[0;32m     80\u001b[0m     \u001b[39m# name as the attribute, ensure that the attribute and *not*\u001b[39;00m\n\u001b[0;32m     81\u001b[0m     \u001b[39m# the module is accessible on the package.\u001b[39;00m\n",
      "File \u001b[1;32mc:\\ProgramData\\Anaconda3\\lib\\importlib\\__init__.py:127\u001b[0m, in \u001b[0;36mimport_module\u001b[1;34m(name, package)\u001b[0m\n\u001b[0;32m    125\u001b[0m             \u001b[39mbreak\u001b[39;00m\n\u001b[0;32m    126\u001b[0m         level \u001b[39m+\u001b[39m\u001b[39m=\u001b[39m \u001b[39m1\u001b[39m\n\u001b[1;32m--> 127\u001b[0m \u001b[39mreturn\u001b[39;00m _bootstrap\u001b[39m.\u001b[39;49m_gcd_import(name[level:], package, level)\n",
      "File \u001b[1;32m<frozen importlib._bootstrap>:1030\u001b[0m, in \u001b[0;36m_gcd_import\u001b[1;34m(name, package, level)\u001b[0m\n",
      "File \u001b[1;32m<frozen importlib._bootstrap>:1007\u001b[0m, in \u001b[0;36m_find_and_load\u001b[1;34m(name, import_)\u001b[0m\n",
      "File \u001b[1;32m<frozen importlib._bootstrap>:986\u001b[0m, in \u001b[0;36m_find_and_load_unlocked\u001b[1;34m(name, import_)\u001b[0m\n",
      "File \u001b[1;32m<frozen importlib._bootstrap>:680\u001b[0m, in \u001b[0;36m_load_unlocked\u001b[1;34m(spec)\u001b[0m\n",
      "File \u001b[1;32m<frozen importlib._bootstrap_external>:850\u001b[0m, in \u001b[0;36mexec_module\u001b[1;34m(self, module)\u001b[0m\n",
      "File \u001b[1;32m<frozen importlib._bootstrap>:228\u001b[0m, in \u001b[0;36m_call_with_frames_removed\u001b[1;34m(f, *args, **kwds)\u001b[0m\n",
      "File \u001b[1;32mc:\\ProgramData\\Anaconda3\\lib\\site-packages\\librosa\\feature\\spectral.py:11\u001b[0m\n\u001b[0;32m      8\u001b[0m \u001b[39mimport\u001b[39;00m \u001b[39mscipy\u001b[39;00m\u001b[39m.\u001b[39;00m\u001b[39mfftpack\u001b[39;00m\n\u001b[0;32m     10\u001b[0m \u001b[39mfrom\u001b[39;00m \u001b[39m.\u001b[39;00m\u001b[39m.\u001b[39;00m \u001b[39mimport\u001b[39;00m util\n\u001b[1;32m---> 11\u001b[0m \u001b[39mfrom\u001b[39;00m \u001b[39m.\u001b[39;00m\u001b[39m.\u001b[39;00m \u001b[39mimport\u001b[39;00m filters\n\u001b[0;32m     12\u001b[0m \u001b[39mfrom\u001b[39;00m \u001b[39m.\u001b[39;00m\u001b[39m.\u001b[39;00m\u001b[39mutil\u001b[39;00m\u001b[39m.\u001b[39;00m\u001b[39mexceptions\u001b[39;00m \u001b[39mimport\u001b[39;00m ParameterError\n\u001b[0;32m     14\u001b[0m \u001b[39mfrom\u001b[39;00m \u001b[39m.\u001b[39;00m\u001b[39m.\u001b[39;00m\u001b[39mcore\u001b[39;00m\u001b[39m.\u001b[39;00m\u001b[39mconvert\u001b[39;00m \u001b[39mimport\u001b[39;00m fft_frequencies\n",
      "File \u001b[1;32m<frozen importlib._bootstrap>:1055\u001b[0m, in \u001b[0;36m_handle_fromlist\u001b[1;34m(module, fromlist, import_, recursive)\u001b[0m\n",
      "File \u001b[1;32mc:\\ProgramData\\Anaconda3\\lib\\site-packages\\lazy_loader\\__init__.py:73\u001b[0m, in \u001b[0;36mattach.<locals>.__getattr__\u001b[1;34m(name)\u001b[0m\n\u001b[0;32m     71\u001b[0m \u001b[39mdef\u001b[39;00m \u001b[39m__getattr__\u001b[39m(name):\n\u001b[0;32m     72\u001b[0m     \u001b[39mif\u001b[39;00m name \u001b[39min\u001b[39;00m submodules:\n\u001b[1;32m---> 73\u001b[0m         \u001b[39mreturn\u001b[39;00m importlib\u001b[39m.\u001b[39;49mimport_module(\u001b[39mf\u001b[39;49m\u001b[39m\"\u001b[39;49m\u001b[39m{\u001b[39;49;00mpackage_name\u001b[39m}\u001b[39;49;00m\u001b[39m.\u001b[39;49m\u001b[39m{\u001b[39;49;00mname\u001b[39m}\u001b[39;49;00m\u001b[39m\"\u001b[39;49m)\n\u001b[0;32m     74\u001b[0m     \u001b[39melif\u001b[39;00m name \u001b[39min\u001b[39;00m attr_to_modules:\n\u001b[0;32m     75\u001b[0m         submod_path \u001b[39m=\u001b[39m \u001b[39mf\u001b[39m\u001b[39m\"\u001b[39m\u001b[39m{\u001b[39;00mpackage_name\u001b[39m}\u001b[39;00m\u001b[39m.\u001b[39m\u001b[39m{\u001b[39;00mattr_to_modules[name]\u001b[39m}\u001b[39;00m\u001b[39m\"\u001b[39m\n",
      "File \u001b[1;32mc:\\ProgramData\\Anaconda3\\lib\\importlib\\__init__.py:127\u001b[0m, in \u001b[0;36mimport_module\u001b[1;34m(name, package)\u001b[0m\n\u001b[0;32m    125\u001b[0m             \u001b[39mbreak\u001b[39;00m\n\u001b[0;32m    126\u001b[0m         level \u001b[39m+\u001b[39m\u001b[39m=\u001b[39m \u001b[39m1\u001b[39m\n\u001b[1;32m--> 127\u001b[0m \u001b[39mreturn\u001b[39;00m _bootstrap\u001b[39m.\u001b[39;49m_gcd_import(name[level:], package, level)\n",
      "File \u001b[1;32mc:\\ProgramData\\Anaconda3\\lib\\site-packages\\librosa\\filters.py:59\u001b[0m\n\u001b[0;32m     56\u001b[0m \u001b[39mfrom\u001b[39;00m \u001b[39m.\u001b[39;00m\u001b[39mutil\u001b[39;00m\u001b[39m.\u001b[39;00m\u001b[39mexceptions\u001b[39;00m \u001b[39mimport\u001b[39;00m ParameterError\n\u001b[0;32m     57\u001b[0m \u001b[39mfrom\u001b[39;00m \u001b[39m.\u001b[39;00m\u001b[39mutil\u001b[39;00m\u001b[39m.\u001b[39;00m\u001b[39mdecorators\u001b[39;00m \u001b[39mimport\u001b[39;00m deprecated\n\u001b[1;32m---> 59\u001b[0m \u001b[39mfrom\u001b[39;00m \u001b[39m.\u001b[39;00m\u001b[39mcore\u001b[39;00m\u001b[39m.\u001b[39;00m\u001b[39mconvert\u001b[39;00m \u001b[39mimport\u001b[39;00m note_to_hz, hz_to_midi, midi_to_hz, hz_to_octs\n\u001b[0;32m     60\u001b[0m \u001b[39mfrom\u001b[39;00m \u001b[39m.\u001b[39;00m\u001b[39mcore\u001b[39;00m\u001b[39m.\u001b[39;00m\u001b[39mconvert\u001b[39;00m \u001b[39mimport\u001b[39;00m fft_frequencies, mel_frequencies\n\u001b[0;32m     61\u001b[0m \u001b[39mfrom\u001b[39;00m \u001b[39mnumpy\u001b[39;00m\u001b[39m.\u001b[39;00m\u001b[39mtyping\u001b[39;00m \u001b[39mimport\u001b[39;00m ArrayLike, DTypeLike\n",
      "File \u001b[1;32mc:\\ProgramData\\Anaconda3\\lib\\site-packages\\librosa\\core\\convert.py:7\u001b[0m\n\u001b[0;32m      5\u001b[0m \u001b[39mimport\u001b[39;00m \u001b[39mre\u001b[39;00m\n\u001b[0;32m      6\u001b[0m \u001b[39mimport\u001b[39;00m \u001b[39mnumpy\u001b[39;00m \u001b[39mas\u001b[39;00m \u001b[39mnp\u001b[39;00m\n\u001b[1;32m----> 7\u001b[0m \u001b[39mfrom\u001b[39;00m \u001b[39m.\u001b[39;00m \u001b[39mimport\u001b[39;00m notation\n\u001b[0;32m      8\u001b[0m \u001b[39mfrom\u001b[39;00m \u001b[39m.\u001b[39;00m\u001b[39m.\u001b[39;00m\u001b[39mutil\u001b[39;00m\u001b[39m.\u001b[39;00m\u001b[39mexceptions\u001b[39;00m \u001b[39mimport\u001b[39;00m ParameterError\n\u001b[0;32m      9\u001b[0m \u001b[39mfrom\u001b[39;00m \u001b[39m.\u001b[39;00m\u001b[39m.\u001b[39;00m\u001b[39mutil\u001b[39;00m\u001b[39m.\u001b[39;00m\u001b[39mdecorators\u001b[39;00m \u001b[39mimport\u001b[39;00m vectorize\n",
      "File \u001b[1;32mc:\\ProgramData\\Anaconda3\\lib\\site-packages\\librosa\\core\\notation.py:800\u001b[0m\n\u001b[0;32m    792\u001b[0m     acc_str \u001b[39m=\u001b[39m acc_map_inv[np\u001b[39m.\u001b[39msign(acc_index) \u001b[39m*\u001b[39m \u001b[39m2\u001b[39m] \u001b[39m*\u001b[39m \u001b[39mint\u001b[39m(\n\u001b[0;32m    793\u001b[0m         \u001b[39mabs\u001b[39m(acc_index) \u001b[39m/\u001b[39m\u001b[39m/\u001b[39m \u001b[39m2\u001b[39m\n\u001b[0;32m    794\u001b[0m     ) \u001b[39m+\u001b[39m acc_map_inv[np\u001b[39m.\u001b[39msign(acc_index)] \u001b[39m*\u001b[39m \u001b[39mint\u001b[39m(\u001b[39mabs\u001b[39m(acc_index) \u001b[39m%\u001b[39m \u001b[39m2\u001b[39m)\n\u001b[0;32m    796\u001b[0m     \u001b[39mreturn\u001b[39;00m raw_output \u001b[39m+\u001b[39m acc_str\n\u001b[0;32m    799\u001b[0m \u001b[39m@jit\u001b[39;49m(nopython\u001b[39m=\u001b[39;49m\u001b[39mTrue\u001b[39;49;00m, nogil\u001b[39m=\u001b[39;49m\u001b[39mTrue\u001b[39;49;00m, cache\u001b[39m=\u001b[39;49m\u001b[39mTrue\u001b[39;49;00m)\n\u001b[1;32m--> 800\u001b[0m \u001b[39mdef\u001b[39;49;00m \u001b[39m__o_fold\u001b[39;49m(d):\n\u001b[0;32m    801\u001b[0m     \u001b[39m\"\"\"Compute the octave-folded interval.\u001b[39;49;00m\n\u001b[0;32m    802\u001b[0m \n\u001b[0;32m    803\u001b[0m \u001b[39m    This maps intervals to the range [1, 2).\u001b[39;49;00m\n\u001b[1;32m   (...)\u001b[0m\n\u001b[0;32m    807\u001b[0m \u001b[39m    documentation.\u001b[39;49;00m\n\u001b[0;32m    808\u001b[0m \u001b[39m    \"\"\"\u001b[39;49;00m\n\u001b[0;32m    809\u001b[0m     \u001b[39mreturn\u001b[39;49;00m d \u001b[39m*\u001b[39;49m (\u001b[39m2.0\u001b[39;49m \u001b[39m*\u001b[39;49m\u001b[39m*\u001b[39;49m \u001b[39m-\u001b[39;49mnp\u001b[39m.\u001b[39;49mfloor(np\u001b[39m.\u001b[39;49mlog2(d)))\n",
      "File \u001b[1;32mc:\\ProgramData\\Anaconda3\\lib\\site-packages\\numba\\core\\decorators.py:212\u001b[0m, in \u001b[0;36m_jit.<locals>.wrapper\u001b[1;34m(func)\u001b[0m\n\u001b[0;32m    208\u001b[0m disp \u001b[39m=\u001b[39m dispatcher(py_func\u001b[39m=\u001b[39mfunc, \u001b[39mlocals\u001b[39m\u001b[39m=\u001b[39m\u001b[39mlocals\u001b[39m,\n\u001b[0;32m    209\u001b[0m                   targetoptions\u001b[39m=\u001b[39mtargetoptions,\n\u001b[0;32m    210\u001b[0m                   \u001b[39m*\u001b[39m\u001b[39m*\u001b[39mdispatcher_args)\n\u001b[0;32m    211\u001b[0m \u001b[39mif\u001b[39;00m cache:\n\u001b[1;32m--> 212\u001b[0m     disp\u001b[39m.\u001b[39;49menable_caching()\n\u001b[0;32m    213\u001b[0m \u001b[39mif\u001b[39;00m sigs \u001b[39mis\u001b[39;00m \u001b[39mnot\u001b[39;00m \u001b[39mNone\u001b[39;00m:\n\u001b[0;32m    214\u001b[0m     \u001b[39m# Register the Dispatcher to the type inference mechanism,\u001b[39;00m\n\u001b[0;32m    215\u001b[0m     \u001b[39m# even though the decorator hasn't returned yet.\u001b[39;00m\n\u001b[0;32m    216\u001b[0m     \u001b[39mfrom\u001b[39;00m \u001b[39mnumba\u001b[39;00m\u001b[39m.\u001b[39;00m\u001b[39mcore\u001b[39;00m \u001b[39mimport\u001b[39;00m typeinfer\n",
      "File \u001b[1;32mc:\\ProgramData\\Anaconda3\\lib\\site-packages\\numba\\core\\dispatcher.py:863\u001b[0m, in \u001b[0;36mDispatcher.enable_caching\u001b[1;34m(self)\u001b[0m\n\u001b[0;32m    862\u001b[0m \u001b[39mdef\u001b[39;00m \u001b[39menable_caching\u001b[39m(\u001b[39mself\u001b[39m):\n\u001b[1;32m--> 863\u001b[0m     \u001b[39mself\u001b[39m\u001b[39m.\u001b[39m_cache \u001b[39m=\u001b[39m FunctionCache(\u001b[39mself\u001b[39;49m\u001b[39m.\u001b[39;49mpy_func)\n",
      "File \u001b[1;32mc:\\ProgramData\\Anaconda3\\lib\\site-packages\\numba\\core\\caching.py:601\u001b[0m, in \u001b[0;36mCache.__init__\u001b[1;34m(self, py_func)\u001b[0m\n\u001b[0;32m    599\u001b[0m \u001b[39mself\u001b[39m\u001b[39m.\u001b[39m_name \u001b[39m=\u001b[39m \u001b[39mrepr\u001b[39m(py_func)\n\u001b[0;32m    600\u001b[0m \u001b[39mself\u001b[39m\u001b[39m.\u001b[39m_py_func \u001b[39m=\u001b[39m py_func\n\u001b[1;32m--> 601\u001b[0m \u001b[39mself\u001b[39m\u001b[39m.\u001b[39m_impl \u001b[39m=\u001b[39m \u001b[39mself\u001b[39;49m\u001b[39m.\u001b[39;49m_impl_class(py_func)\n\u001b[0;32m    602\u001b[0m \u001b[39mself\u001b[39m\u001b[39m.\u001b[39m_cache_path \u001b[39m=\u001b[39m \u001b[39mself\u001b[39m\u001b[39m.\u001b[39m_impl\u001b[39m.\u001b[39mlocator\u001b[39m.\u001b[39mget_cache_path()\n\u001b[0;32m    603\u001b[0m \u001b[39m# This may be a bit strict but avoids us maintaining a magic number\u001b[39;00m\n",
      "File \u001b[1;32mc:\\ProgramData\\Anaconda3\\lib\\site-packages\\numba\\core\\caching.py:333\u001b[0m, in \u001b[0;36mCacheImpl.__init__\u001b[1;34m(self, py_func)\u001b[0m\n\u001b[0;32m    331\u001b[0m source_path \u001b[39m=\u001b[39m inspect\u001b[39m.\u001b[39mgetfile(py_func)\n\u001b[0;32m    332\u001b[0m \u001b[39mfor\u001b[39;00m \u001b[39mcls\u001b[39m \u001b[39min\u001b[39;00m \u001b[39mself\u001b[39m\u001b[39m.\u001b[39m_locator_classes:\n\u001b[1;32m--> 333\u001b[0m     locator \u001b[39m=\u001b[39m \u001b[39mcls\u001b[39;49m\u001b[39m.\u001b[39;49mfrom_function(py_func, source_path)\n\u001b[0;32m    334\u001b[0m     \u001b[39mif\u001b[39;00m locator \u001b[39mis\u001b[39;00m \u001b[39mnot\u001b[39;00m \u001b[39mNone\u001b[39;00m:\n\u001b[0;32m    335\u001b[0m         \u001b[39mbreak\u001b[39;00m\n",
      "File \u001b[1;32mc:\\ProgramData\\Anaconda3\\lib\\site-packages\\numba\\core\\caching.py:180\u001b[0m, in \u001b[0;36m_SourceFileBackedLocatorMixin.from_function\u001b[1;34m(cls, py_func, py_file)\u001b[0m\n\u001b[0;32m    178\u001b[0m \u001b[39mself\u001b[39m \u001b[39m=\u001b[39m \u001b[39mcls\u001b[39m(py_func, py_file)\n\u001b[0;32m    179\u001b[0m \u001b[39mtry\u001b[39;00m:\n\u001b[1;32m--> 180\u001b[0m     \u001b[39mself\u001b[39;49m\u001b[39m.\u001b[39;49mensure_cache_path()\n\u001b[0;32m    181\u001b[0m \u001b[39mexcept\u001b[39;00m \u001b[39mOSError\u001b[39;00m:\n\u001b[0;32m    182\u001b[0m     \u001b[39m# Cannot ensure the cache directory exists or is writable\u001b[39;00m\n\u001b[0;32m    183\u001b[0m     \u001b[39mreturn\u001b[39;00m\n",
      "File \u001b[1;32mc:\\ProgramData\\Anaconda3\\lib\\site-packages\\numba\\core\\caching.py:107\u001b[0m, in \u001b[0;36m_CacheLocator.ensure_cache_path\u001b[1;34m(self)\u001b[0m\n\u001b[0;32m    105\u001b[0m os\u001b[39m.\u001b[39mmakedirs(path, exist_ok\u001b[39m=\u001b[39m\u001b[39mTrue\u001b[39;00m)\n\u001b[0;32m    106\u001b[0m \u001b[39m# Ensure the directory is writable by trying to write a temporary file\u001b[39;00m\n\u001b[1;32m--> 107\u001b[0m tempfile\u001b[39m.\u001b[39;49mTemporaryFile(\u001b[39mdir\u001b[39;49m\u001b[39m=\u001b[39;49mpath)\u001b[39m.\u001b[39mclose()\n",
      "File \u001b[1;32mc:\\ProgramData\\Anaconda3\\lib\\tempfile.py:545\u001b[0m, in \u001b[0;36mNamedTemporaryFile\u001b[1;34m(mode, buffering, encoding, newline, suffix, prefix, dir, delete, errors)\u001b[0m\n\u001b[0;32m    542\u001b[0m \u001b[39mif\u001b[39;00m _os\u001b[39m.\u001b[39mname \u001b[39m==\u001b[39m \u001b[39m'\u001b[39m\u001b[39mnt\u001b[39m\u001b[39m'\u001b[39m \u001b[39mand\u001b[39;00m delete:\n\u001b[0;32m    543\u001b[0m     flags \u001b[39m|\u001b[39m\u001b[39m=\u001b[39m _os\u001b[39m.\u001b[39mO_TEMPORARY\n\u001b[1;32m--> 545\u001b[0m (fd, name) \u001b[39m=\u001b[39m _mkstemp_inner(\u001b[39mdir\u001b[39;49m, prefix, suffix, flags, output_type)\n\u001b[0;32m    546\u001b[0m \u001b[39mtry\u001b[39;00m:\n\u001b[0;32m    547\u001b[0m     file \u001b[39m=\u001b[39m _io\u001b[39m.\u001b[39mopen(fd, mode, buffering\u001b[39m=\u001b[39mbuffering,\n\u001b[0;32m    548\u001b[0m                     newline\u001b[39m=\u001b[39mnewline, encoding\u001b[39m=\u001b[39mencoding, errors\u001b[39m=\u001b[39merrors)\n",
      "File \u001b[1;32mc:\\ProgramData\\Anaconda3\\lib\\tempfile.py:262\u001b[0m, in \u001b[0;36m_mkstemp_inner\u001b[1;34m(dir, pre, suf, flags, output_type)\u001b[0m\n\u001b[0;32m    257\u001b[0m     \u001b[39mcontinue\u001b[39;00m    \u001b[39m# try again\u001b[39;00m\n\u001b[0;32m    258\u001b[0m \u001b[39mexcept\u001b[39;00m \u001b[39mPermissionError\u001b[39;00m:\n\u001b[0;32m    259\u001b[0m     \u001b[39m# This exception is thrown when a directory with the chosen name\u001b[39;00m\n\u001b[0;32m    260\u001b[0m     \u001b[39m# already exists on windows.\u001b[39;00m\n\u001b[0;32m    261\u001b[0m     \u001b[39mif\u001b[39;00m (_os\u001b[39m.\u001b[39mname \u001b[39m==\u001b[39m \u001b[39m'\u001b[39m\u001b[39mnt\u001b[39m\u001b[39m'\u001b[39m \u001b[39mand\u001b[39;00m _os\u001b[39m.\u001b[39mpath\u001b[39m.\u001b[39misdir(\u001b[39mdir\u001b[39m) \u001b[39mand\u001b[39;00m\n\u001b[1;32m--> 262\u001b[0m         _os\u001b[39m.\u001b[39;49maccess(\u001b[39mdir\u001b[39;49m, _os\u001b[39m.\u001b[39;49mW_OK)):\n\u001b[0;32m    263\u001b[0m         \u001b[39mcontinue\u001b[39;00m\n\u001b[0;32m    264\u001b[0m     \u001b[39melse\u001b[39;00m:\n",
      "\u001b[1;31mKeyboardInterrupt\u001b[0m: "
     ]
    }
   ],
   "source": [
    "audio_path = 'audio/paciente1.wav'\n",
    "features = preprocess_audio(audio_path)\n"
   ]
  },
  {
   "cell_type": "code",
   "execution_count": null,
   "metadata": {},
   "outputs": [],
   "source": []
  }
 ],
 "metadata": {
  "kernelspec": {
   "display_name": "base",
   "language": "python",
   "name": "python3"
  },
  "language_info": {
   "codemirror_mode": {
    "name": "ipython",
    "version": 3
   },
   "file_extension": ".py",
   "mimetype": "text/x-python",
   "name": "python",
   "nbconvert_exporter": "python",
   "pygments_lexer": "ipython3",
   "version": "3.9.16"
  },
  "orig_nbformat": 4
 },
 "nbformat": 4,
 "nbformat_minor": 2
}
