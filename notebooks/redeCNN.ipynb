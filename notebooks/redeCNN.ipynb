{
 "cells": [
  {
   "cell_type": "code",
   "execution_count": 5,
   "metadata": {},
   "outputs": [],
   "source": [
    "import tensorflow as tf\n",
    "from tensorflow.keras import layers\n",
    "import pandas as pd\n",
    "from sklearn.model_selection import train_test_split\n",
    "from sklearn.preprocessing import StandardScaler\n",
    "\n",
    "# Carregando os dados do Parkinson's Dataset\n",
    "dataset = pd.read_csv('parkinsons.data')\n",
    "X = dataset.drop(['name', 'status'], axis=1)\n",
    "y = dataset['status']\n",
    "\n",
    "# Separando em conjuntos de treino e teste\n",
    "X_train, X_test, y_train, y_test = train_test_split(X, y, test_size=0.3, random_state=42)\n",
    "\n",
    "# Normalizando os dados\n",
    "scaler = StandardScaler()\n",
    "X_train = scaler.fit_transform(X_train)\n",
    "X_test = scaler.transform(X_test)\n",
    "\n",
    "# Reshape dos dados para a entrada da CNN\n",
    "X_train = X_train.reshape(-1, 1, X_train.shape[1], 1)\n",
    "X_test = X_test.reshape(-1, 1, X_test.shape[1], 1)"
   ]
  },
  {
   "cell_type": "code",
   "execution_count": 20,
   "metadata": {},
   "outputs": [],
   "source": [
    "# Definindo o modelo CNN 1 \n",
    "model = tf.keras.Sequential()\n",
    "model.add(tf.keras.layers.Reshape((1, 22, 1), input_shape=(1, 22)))\n",
    "model.add(tf.keras.layers.Conv2D(filters=8, kernel_size=(1, 3), activation='relu'))\n",
    "model.add(tf.keras.layers.MaxPooling2D(pool_size=(1, 2)))\n",
    "model.add(tf.keras.layers.Flatten())\n",
    "model.add(tf.keras.layers.Dense(units=16, activation='relu'))\n",
    "model.add(tf.keras.layers.Dropout(0.5))\n",
    "model.add(tf.keras.layers.Dense(units=1, activation='sigmoid'))\n"
   ]
  },
  {
   "cell_type": "code",
   "execution_count": 2,
   "metadata": {},
   "outputs": [],
   "source": [
    "# Definindo o modelo CNN 2\n",
    "model = tf.keras.Sequential()\n",
    "model.add(tf.keras.layers.Reshape((1, 22, 1), input_shape=(1, 22)))\n",
    "model.add(tf.keras.layers.Conv2D(filters=16, kernel_size=(1, 5), activation='relu')) # Aumento dos filtros e ajuste do tamanho do kernel\n",
    "model.add(tf.keras.layers.MaxPooling2D(pool_size=(1, 2)))\n",
    "model.add(tf.keras.layers.Conv2D(filters=32, kernel_size=(1, 5), activation='relu')) # Camada convolucional adicional\n",
    "model.add(tf.keras.layers.MaxPooling2D(pool_size=(1, 2)))\n",
    "model.add(tf.keras.layers.Flatten())\n",
    "model.add(tf.keras.layers.Dense(units=32, activation='relu')) # Aumento das unidades na camada densa\n",
    "model.add(tf.keras.layers.Dropout(0.3)) # Ajuste na taxa de dropout\n",
    "model.add(tf.keras.layers.Dense(units=1, activation='sigmoid'))\n"
   ]
  },
  {
   "cell_type": "code",
   "execution_count": 6,
   "metadata": {},
   "outputs": [],
   "source": [
    "# Definindo o modelo CNN 3\n",
    "# Definindo o modelo sequencial\n",
    "model = tf.keras.Sequential()\n",
    "\n",
    "# Adicionando a camada Reshape como a primeira camada e definindo input_shape\n",
    "model.add(tf.keras.layers.Reshape((1, 22, 1), input_shape=(1, 22)))\n",
    "\n",
    "# Continuando com as demais camadas como antes\n",
    "model.add(tf.keras.layers.Conv2D(filters=8, kernel_size=(1, 5), activation='relu',padding='same'))\n",
    "model.add(tf.keras.layers.Conv2D(filters=8, kernel_size=(1, 5), activation='relu',padding='same')) \n",
    "model.add(tf.keras.layers.MaxPooling2D(pool_size=(1, 2)))\n",
    "\n",
    "model.add(tf.keras.layers.Conv2D(filters=16, kernel_size=(1, 5), activation='relu',padding='same')) \n",
    "model.add(tf.keras.layers.Conv2D(filters=16, kernel_size=(1, 5), activation='relu',padding='same')) \n",
    "model.add(tf.keras.layers.Conv2D(filters=16, kernel_size=(1, 5), activation='relu',padding='same')) \n",
    "model.add(tf.keras.layers.MaxPooling2D(pool_size=(1, 2)))\n",
    "\n",
    "model.add(tf.keras.layers.Conv2D(filters=32, kernel_size=(1, 5), activation='relu',padding='same')) \n",
    "model.add(tf.keras.layers.Conv2D(filters=32, kernel_size=(1, 5), activation='relu',padding='same')) \n",
    "model.add(tf.keras.layers.Conv2D(filters=32, kernel_size=(1, 5), activation='relu',padding='same')) \n",
    "model.add(tf.keras.layers.MaxPooling2D(pool_size=(1, 2)))\n",
    "\n",
    "model.add(tf.keras.layers.Conv2D(filters=64, kernel_size=(1, 5), activation='relu',padding='same')) \n",
    "model.add(tf.keras.layers.Conv2D(filters=64, kernel_size=(1, 5), activation='relu',padding='same')) \n",
    "model.add(tf.keras.layers.Conv2D(filters=64, kernel_size=(1, 5), activation='relu',padding='same')) \n",
    "model.add(tf.keras.layers.MaxPooling2D(pool_size=(1, 2)))\n",
    "\n",
    "model.add(tf.keras.layers.Flatten())\n",
    "model.add(tf.keras.layers.Dense(units=64, activation='relu'))\n",
    "model.add(tf.keras.layers.Dropout(0.3))\n",
    "model.add(tf.keras.layers.Dense(units=1, activation='sigmoid'))\n"
   ]
  },
  {
   "cell_type": "code",
   "execution_count": 7,
   "metadata": {},
   "outputs": [
    {
     "name": "stdout",
     "output_type": "stream",
     "text": [
      "Epoch 1/50\n",
      "5/5 [==============================] - 2s 51ms/step - loss: 0.6903 - accuracy: 0.6838 - val_loss: 0.6846 - val_accuracy: 0.7458\n",
      "Epoch 2/50\n",
      "5/5 [==============================] - 0s 8ms/step - loss: 0.6777 - accuracy: 0.7574 - val_loss: 0.6644 - val_accuracy: 0.7458\n",
      "Epoch 3/50\n",
      "5/5 [==============================] - 0s 9ms/step - loss: 0.6356 - accuracy: 0.7574 - val_loss: 0.6023 - val_accuracy: 0.7458\n",
      "Epoch 4/50\n",
      "5/5 [==============================] - 0s 8ms/step - loss: 0.5701 - accuracy: 0.7574 - val_loss: 0.5648 - val_accuracy: 0.7458\n",
      "Epoch 5/50\n",
      "5/5 [==============================] - 0s 8ms/step - loss: 0.5235 - accuracy: 0.7574 - val_loss: 0.5324 - val_accuracy: 0.7458\n",
      "Epoch 6/50\n",
      "5/5 [==============================] - 0s 10ms/step - loss: 0.4905 - accuracy: 0.7574 - val_loss: 0.5042 - val_accuracy: 0.7458\n",
      "Epoch 7/50\n",
      "5/5 [==============================] - 0s 8ms/step - loss: 0.4712 - accuracy: 0.7574 - val_loss: 0.4678 - val_accuracy: 0.7458\n",
      "Epoch 8/50\n",
      "5/5 [==============================] - 0s 8ms/step - loss: 0.4360 - accuracy: 0.7574 - val_loss: 0.4339 - val_accuracy: 0.7458\n",
      "Epoch 9/50\n",
      "5/5 [==============================] - 0s 8ms/step - loss: 0.4122 - accuracy: 0.7574 - val_loss: 0.4043 - val_accuracy: 0.7458\n",
      "Epoch 10/50\n",
      "5/5 [==============================] - 0s 8ms/step - loss: 0.3731 - accuracy: 0.7574 - val_loss: 0.3923 - val_accuracy: 0.7458\n",
      "Epoch 11/50\n",
      "5/5 [==============================] - 0s 8ms/step - loss: 0.3517 - accuracy: 0.7574 - val_loss: 0.4310 - val_accuracy: 0.7458\n",
      "Epoch 12/50\n",
      "5/5 [==============================] - 0s 8ms/step - loss: 0.3454 - accuracy: 0.7574 - val_loss: 0.3948 - val_accuracy: 0.7458\n",
      "Epoch 13/50\n",
      "5/5 [==============================] - 0s 8ms/step - loss: 0.3290 - accuracy: 0.7574 - val_loss: 0.4615 - val_accuracy: 0.7458\n",
      "Epoch 14/50\n",
      "5/5 [==============================] - 0s 8ms/step - loss: 0.3121 - accuracy: 0.7574 - val_loss: 0.3876 - val_accuracy: 0.7458\n",
      "Epoch 15/50\n",
      "5/5 [==============================] - 0s 8ms/step - loss: 0.2977 - accuracy: 0.7721 - val_loss: 0.3823 - val_accuracy: 0.7797\n",
      "Epoch 16/50\n",
      "5/5 [==============================] - 0s 8ms/step - loss: 0.2789 - accuracy: 0.8750 - val_loss: 0.4794 - val_accuracy: 0.8136\n",
      "Epoch 17/50\n",
      "5/5 [==============================] - 0s 8ms/step - loss: 0.2465 - accuracy: 0.8897 - val_loss: 0.4244 - val_accuracy: 0.7966\n",
      "Epoch 18/50\n",
      "5/5 [==============================] - 0s 8ms/step - loss: 0.2095 - accuracy: 0.9559 - val_loss: 0.7328 - val_accuracy: 0.8136\n",
      "Epoch 19/50\n",
      "5/5 [==============================] - 0s 8ms/step - loss: 0.1993 - accuracy: 0.9044 - val_loss: 0.3945 - val_accuracy: 0.8136\n",
      "Epoch 20/50\n",
      "5/5 [==============================] - 0s 8ms/step - loss: 0.1131 - accuracy: 0.9706 - val_loss: 1.3365 - val_accuracy: 0.8305\n",
      "Epoch 21/50\n",
      "5/5 [==============================] - 0s 8ms/step - loss: 0.1779 - accuracy: 0.9118 - val_loss: 0.6407 - val_accuracy: 0.8305\n",
      "Epoch 22/50\n",
      "5/5 [==============================] - 0s 8ms/step - loss: 0.1115 - accuracy: 0.9632 - val_loss: 0.8512 - val_accuracy: 0.7797\n",
      "Epoch 23/50\n",
      "5/5 [==============================] - 0s 8ms/step - loss: 0.2225 - accuracy: 0.8971 - val_loss: 0.5405 - val_accuracy: 0.7627\n",
      "Epoch 24/50\n",
      "5/5 [==============================] - 0s 8ms/step - loss: 0.1103 - accuracy: 0.9559 - val_loss: 0.5954 - val_accuracy: 0.8475\n",
      "Epoch 25/50\n",
      "5/5 [==============================] - 0s 8ms/step - loss: 0.0855 - accuracy: 0.9632 - val_loss: 1.0267 - val_accuracy: 0.8475\n",
      "Epoch 26/50\n",
      "5/5 [==============================] - 0s 8ms/step - loss: 0.1040 - accuracy: 0.9632 - val_loss: 0.7543 - val_accuracy: 0.8305\n",
      "Epoch 27/50\n",
      "5/5 [==============================] - 0s 8ms/step - loss: 0.0670 - accuracy: 0.9779 - val_loss: 0.7146 - val_accuracy: 0.7966\n",
      "Epoch 28/50\n",
      "5/5 [==============================] - 0s 8ms/step - loss: 0.0500 - accuracy: 0.9853 - val_loss: 0.7612 - val_accuracy: 0.8136\n",
      "Epoch 29/50\n",
      "5/5 [==============================] - 0s 8ms/step - loss: 0.0402 - accuracy: 0.9779 - val_loss: 0.8511 - val_accuracy: 0.8136\n",
      "Epoch 30/50\n",
      "5/5 [==============================] - 0s 8ms/step - loss: 0.0206 - accuracy: 0.9926 - val_loss: 0.9440 - val_accuracy: 0.7966\n",
      "Epoch 31/50\n",
      "5/5 [==============================] - 0s 8ms/step - loss: 0.0212 - accuracy: 0.9926 - val_loss: 1.0367 - val_accuracy: 0.8305\n",
      "Epoch 32/50\n",
      "5/5 [==============================] - 0s 8ms/step - loss: 0.0063 - accuracy: 1.0000 - val_loss: 1.1981 - val_accuracy: 0.7966\n",
      "Epoch 33/50\n",
      "5/5 [==============================] - 0s 9ms/step - loss: 0.0065 - accuracy: 1.0000 - val_loss: 1.2723 - val_accuracy: 0.8136\n",
      "Epoch 34/50\n",
      "5/5 [==============================] - 0s 8ms/step - loss: 0.0034 - accuracy: 1.0000 - val_loss: 1.3915 - val_accuracy: 0.7966\n",
      "Epoch 35/50\n",
      "5/5 [==============================] - 0s 8ms/step - loss: 0.0014 - accuracy: 1.0000 - val_loss: 1.5350 - val_accuracy: 0.7966\n",
      "Epoch 36/50\n",
      "5/5 [==============================] - 0s 8ms/step - loss: 0.0015 - accuracy: 1.0000 - val_loss: 1.6389 - val_accuracy: 0.7966\n",
      "Epoch 37/50\n",
      "5/5 [==============================] - 0s 8ms/step - loss: 0.0012 - accuracy: 1.0000 - val_loss: 1.6978 - val_accuracy: 0.7966\n",
      "Epoch 38/50\n",
      "5/5 [==============================] - 0s 8ms/step - loss: 0.0015 - accuracy: 1.0000 - val_loss: 1.7035 - val_accuracy: 0.7966\n",
      "Epoch 39/50\n",
      "5/5 [==============================] - 0s 8ms/step - loss: 0.0018 - accuracy: 1.0000 - val_loss: 1.6973 - val_accuracy: 0.8305\n",
      "Epoch 40/50\n",
      "5/5 [==============================] - 0s 8ms/step - loss: 0.0045 - accuracy: 1.0000 - val_loss: 1.9304 - val_accuracy: 0.8136\n",
      "Epoch 41/50\n",
      "5/5 [==============================] - 0s 8ms/step - loss: 0.0368 - accuracy: 0.9926 - val_loss: 1.6612 - val_accuracy: 0.8305\n",
      "Epoch 42/50\n",
      "5/5 [==============================] - 0s 8ms/step - loss: 0.0071 - accuracy: 1.0000 - val_loss: 1.5836 - val_accuracy: 0.8136\n",
      "Epoch 43/50\n",
      "5/5 [==============================] - 0s 8ms/step - loss: 0.0108 - accuracy: 0.9926 - val_loss: 1.5297 - val_accuracy: 0.7966\n",
      "Epoch 44/50\n",
      "5/5 [==============================] - 0s 8ms/step - loss: 0.0281 - accuracy: 0.9926 - val_loss: 2.1395 - val_accuracy: 0.8475\n",
      "Epoch 45/50\n",
      "5/5 [==============================] - 0s 8ms/step - loss: 0.1432 - accuracy: 0.9706 - val_loss: 1.3894 - val_accuracy: 0.8136\n",
      "Epoch 46/50\n",
      "5/5 [==============================] - 0s 8ms/step - loss: 0.0205 - accuracy: 0.9926 - val_loss: 1.1520 - val_accuracy: 0.8305\n",
      "Epoch 47/50\n",
      "5/5 [==============================] - 0s 8ms/step - loss: 0.1046 - accuracy: 0.9779 - val_loss: 0.9234 - val_accuracy: 0.7797\n",
      "Epoch 48/50\n",
      "5/5 [==============================] - 0s 8ms/step - loss: 0.0271 - accuracy: 0.9853 - val_loss: 0.9322 - val_accuracy: 0.8136\n",
      "Epoch 49/50\n",
      "5/5 [==============================] - 0s 8ms/step - loss: 0.0124 - accuracy: 1.0000 - val_loss: 1.0322 - val_accuracy: 0.8305\n",
      "Epoch 50/50\n",
      "5/5 [==============================] - 0s 8ms/step - loss: 0.0215 - accuracy: 0.9926 - val_loss: 1.1035 - val_accuracy: 0.8475\n"
     ]
    },
    {
     "data": {
      "text/plain": [
       "<keras.src.callbacks.History at 0x29cdb66d6d0>"
      ]
     },
     "execution_count": 7,
     "metadata": {},
     "output_type": "execute_result"
    }
   ],
   "source": [
    "# Compilando o modelo\n",
    "model.compile(loss='binary_crossentropy', optimizer='adam', metrics=['accuracy'])\n",
    "\n",
    "# Treinando o modelo\n",
    "model.fit(X_train, y_train, epochs=50, batch_size=32, validation_data=(X_test, y_test))"
   ]
  },
  {
   "cell_type": "code",
   "execution_count": 4,
   "metadata": {},
   "outputs": [],
   "source": [
    "filters_list = [4, 8, 16]\n",
    "kernel_size_list = [(1, 3), (1, 5), (1, 7)]\n",
    "activation_list = ['relu', 'sigmoid', 'tanh']"
   ]
  },
  {
   "cell_type": "code",
   "execution_count": 6,
   "metadata": {},
   "outputs": [],
   "source": [
    "def train_and_evaluate_model(filters, kernel_size, activation):\n",
    "    model = tf.keras.Sequential()\n",
    "    model.add(tf.keras.layers.Reshape((1, 22, 1), input_shape=(1, 22)))\n",
    "    model.add(tf.keras.layers.Conv2D(filters=filters, kernel_size=kernel_size, activation='relu'))\n",
    "    model.add(tf.keras.layers.MaxPooling2D(pool_size=(1, 2)))\n",
    "    model.add(tf.keras.layers.Flatten())\n",
    "    model.add(tf.keras.layers.Dense(units=16, activation=activation))\n",
    "    model.add(tf.keras.layers.Dropout(0.5))\n",
    "    model.add(tf.keras.layers.Dense(units=1, activation='sigmoid'))\n",
    "\n",
    "    model.compile(optimizer='adam', loss='binary_crossentropy', metrics=['accuracy'])\n",
    "\n",
    "    history = model.fit(X_train, y_train, epochs=50, batch_size=32, validation_data=(X_test, y_test), verbose=0)\n",
    "\n",
    "    loss, accuracy = model.evaluate(X_test, y_test)\n",
    "    # save the model\n",
    "    model.save(f\"model_{filters}_{kernel_size}_{activation}.h5\")\n",
    "\n",
    "    return {'filters': filters, 'kernel_size': kernel_size, 'activation': activation, 'accuracy': accuracy}\n"
   ]
  },
  {
   "cell_type": "code",
   "execution_count": 7,
   "metadata": {},
   "outputs": [
    {
     "name": "stdout",
     "output_type": "stream",
     "text": [
      "2/2 [==============================] - 0s 3ms/step - loss: 0.3729 - accuracy: 0.8644\n"
     ]
    },
    {
     "name": "stderr",
     "output_type": "stream",
     "text": [
      "c:\\ProgramData\\anaconda3\\Lib\\site-packages\\keras\\src\\engine\\training.py:3079: UserWarning: You are saving your model as an HDF5 file via `model.save()`. This file format is considered legacy. We recommend using instead the native Keras format, e.g. `model.save('my_model.keras')`.\n",
      "  saving_api.save_model(\n"
     ]
    },
    {
     "name": "stdout",
     "output_type": "stream",
     "text": [
      "2/2 [==============================] - 0s 3ms/step - loss: 0.4025 - accuracy: 0.8644\n",
      "2/2 [==============================] - 0s 3ms/step - loss: 0.3987 - accuracy: 0.8644\n",
      "2/2 [==============================] - 0s 3ms/step - loss: 0.3655 - accuracy: 0.8814\n",
      "2/2 [==============================] - 0s 3ms/step - loss: 0.4019 - accuracy: 0.8644\n",
      "2/2 [==============================] - 0s 3ms/step - loss: 0.3849 - accuracy: 0.8983\n",
      "2/2 [==============================] - 0s 3ms/step - loss: 0.3384 - accuracy: 0.8814\n",
      "2/2 [==============================] - 0s 3ms/step - loss: 0.4484 - accuracy: 0.7458\n",
      "2/2 [==============================] - 0s 4ms/step - loss: 0.4082 - accuracy: 0.8136\n",
      "2/2 [==============================] - 0s 3ms/step - loss: 0.3654 - accuracy: 0.8644\n",
      "2/2 [==============================] - 0s 3ms/step - loss: 0.3762 - accuracy: 0.8814\n",
      "2/2 [==============================] - 0s 4ms/step - loss: 0.3656 - accuracy: 0.8475\n",
      "2/2 [==============================] - 0s 3ms/step - loss: 0.3602 - accuracy: 0.8475\n",
      "2/2 [==============================] - 0s 5ms/step - loss: 0.3976 - accuracy: 0.8644\n",
      "2/2 [==============================] - 0s 3ms/step - loss: 0.3565 - accuracy: 0.8644\n",
      "2/2 [==============================] - 0s 4ms/step - loss: 0.3730 - accuracy: 0.8644\n",
      "2/2 [==============================] - 0s 3ms/step - loss: 0.3584 - accuracy: 0.8644\n",
      "2/2 [==============================] - 0s 4ms/step - loss: 0.3658 - accuracy: 0.8644\n",
      "2/2 [==============================] - 0s 4ms/step - loss: 0.3422 - accuracy: 0.8983\n",
      "2/2 [==============================] - 0s 3ms/step - loss: 0.3558 - accuracy: 0.8983\n",
      "2/2 [==============================] - 0s 4ms/step - loss: 0.3663 - accuracy: 0.8814\n",
      "2/2 [==============================] - 0s 4ms/step - loss: 0.3461 - accuracy: 0.8814\n",
      "2/2 [==============================] - 0s 3ms/step - loss: 0.3475 - accuracy: 0.8814\n",
      "2/2 [==============================] - 0s 4ms/step - loss: 0.3458 - accuracy: 0.8475\n",
      "2/2 [==============================] - 0s 3ms/step - loss: 0.3518 - accuracy: 0.8475\n",
      "2/2 [==============================] - 0s 3ms/step - loss: 0.4110 - accuracy: 0.8983\n",
      "2/2 [==============================] - 0s 3ms/step - loss: 0.3309 - accuracy: 0.8814\n"
     ]
    }
   ],
   "source": [
    "results = []\n",
    "\n",
    "for filters in filters_list:\n",
    "    for kernel_size in kernel_size_list:\n",
    "        for activation in activation_list:\n",
    "            result = train_and_evaluate_model(filters, kernel_size, activation)\n",
    "            results.append(result)"
   ]
  },
  {
   "cell_type": "code",
   "execution_count": 8,
   "metadata": {},
   "outputs": [
    {
     "name": "stdout",
     "output_type": "stream",
     "text": [
      "|   filters | kernel_size   | activation   |   accuracy |\n",
      "|----------:|:--------------|:-------------|-----------:|\n",
      "|        16 | (1, 7)        | sigmoid      |   0.898305 |\n",
      "|         4 | (1, 5)        | tanh         |   0.898305 |\n",
      "|        16 | (1, 3)        | sigmoid      |   0.898305 |\n",
      "|        16 | (1, 3)        | relu         |   0.898305 |\n",
      "|        16 | (1, 7)        | tanh         |   0.881356 |\n",
      "|         4 | (1, 5)        | relu         |   0.881356 |\n",
      "|        16 | (1, 5)        | sigmoid      |   0.881356 |\n",
      "|         4 | (1, 7)        | relu         |   0.881356 |\n",
      "|        16 | (1, 5)        | relu         |   0.881356 |\n",
      "|        16 | (1, 3)        | tanh         |   0.881356 |\n",
      "|         8 | (1, 3)        | sigmoid      |   0.881356 |\n",
      "|         8 | (1, 7)        | relu         |   0.864407 |\n",
      "|         8 | (1, 7)        | tanh         |   0.864407 |\n",
      "|         8 | (1, 7)        | sigmoid      |   0.864407 |\n",
      "|         4 | (1, 3)        | relu         |   0.864407 |\n",
      "|         8 | (1, 5)        | tanh         |   0.864407 |\n",
      "|         4 | (1, 3)        | sigmoid      |   0.864407 |\n",
      "|         8 | (1, 3)        | relu         |   0.864407 |\n",
      "|         4 | (1, 5)        | sigmoid      |   0.864407 |\n",
      "|         4 | (1, 3)        | tanh         |   0.864407 |\n",
      "|         8 | (1, 5)        | sigmoid      |   0.864407 |\n",
      "|         8 | (1, 5)        | relu         |   0.847458 |\n",
      "|         8 | (1, 3)        | tanh         |   0.847458 |\n",
      "|        16 | (1, 5)        | tanh         |   0.847458 |\n",
      "|        16 | (1, 7)        | relu         |   0.847458 |\n",
      "|         4 | (1, 7)        | tanh         |   0.813559 |\n",
      "|         4 | (1, 7)        | sigmoid      |   0.745763 |\n"
     ]
    }
   ],
   "source": [
    "import pandas as pd\n",
    "\n",
    "results_df = pd.DataFrame(results)\n",
    "\n",
    "results_df = results_df.sort_values(by=['accuracy'], ascending=False)\n",
    "\n",
    "print(results_df.to_markdown(index=False))\n"
   ]
  },
  {
   "cell_type": "code",
   "execution_count": 9,
   "metadata": {},
   "outputs": [
    {
     "name": "stdout",
     "output_type": "stream",
     "text": [
      "|   filters | kernel_size   | activation   |   accuracy |\n",
      "|----------:|:--------------|:-------------|-----------:|\n",
      "|        16 | (1, 7)        | sigmoid      |   0.898305 |\n",
      "|         4 | (1, 5)        | tanh         |   0.898305 |\n",
      "|        16 | (1, 3)        | sigmoid      |   0.898305 |\n",
      "|        16 | (1, 3)        | relu         |   0.898305 |\n",
      "|        16 | (1, 7)        | tanh         |   0.881356 |\n",
      "|         4 | (1, 5)        | relu         |   0.881356 |\n",
      "|        16 | (1, 5)        | sigmoid      |   0.881356 |\n",
      "|         4 | (1, 7)        | relu         |   0.881356 |\n",
      "|        16 | (1, 5)        | relu         |   0.881356 |\n",
      "|        16 | (1, 3)        | tanh         |   0.881356 |\n",
      "|         8 | (1, 3)        | sigmoid      |   0.881356 |\n",
      "|         8 | (1, 7)        | relu         |   0.864407 |\n",
      "|         8 | (1, 7)        | tanh         |   0.864407 |\n",
      "|         8 | (1, 7)        | sigmoid      |   0.864407 |\n",
      "|         4 | (1, 3)        | relu         |   0.864407 |\n",
      "|         8 | (1, 5)        | tanh         |   0.864407 |\n",
      "|         4 | (1, 3)        | sigmoid      |   0.864407 |\n",
      "|         8 | (1, 3)        | relu         |   0.864407 |\n",
      "|         4 | (1, 5)        | sigmoid      |   0.864407 |\n",
      "|         4 | (1, 3)        | tanh         |   0.864407 |\n",
      "|         8 | (1, 5)        | sigmoid      |   0.864407 |\n",
      "|         8 | (1, 5)        | relu         |   0.847458 |\n",
      "|         8 | (1, 3)        | tanh         |   0.847458 |\n",
      "|        16 | (1, 5)        | tanh         |   0.847458 |\n",
      "|        16 | (1, 7)        | relu         |   0.847458 |\n",
      "|         4 | (1, 7)        | tanh         |   0.813559 |\n",
      "|         4 | (1, 7)        | sigmoid      |   0.745763 |\n"
     ]
    }
   ],
   "source": [
    "import pandas as pd\n",
    "from tabulate import tabulate\n",
    "\n",
    "results_df = pd.DataFrame(results)\n",
    "\n",
    "results_df = results_df.sort_values(by=['accuracy'], ascending=False)\n",
    "\n",
    "print(tabulate(results_df, headers='keys', tablefmt='pipe', showindex=False))\n"
   ]
  },
  {
   "cell_type": "code",
   "execution_count": 1,
   "metadata": {},
   "outputs": [
    {
     "ename": "NameError",
     "evalue": "name 'tf' is not defined",
     "output_type": "error",
     "traceback": [
      "\u001b[1;31m---------------------------------------------------------------------------\u001b[0m",
      "\u001b[1;31mNameError\u001b[0m                                 Traceback (most recent call last)",
      "Cell \u001b[1;32mIn[1], line 2\u001b[0m\n\u001b[0;32m      1\u001b[0m \u001b[38;5;66;03m# Definindo o modelo sequencial\u001b[39;00m\n\u001b[1;32m----> 2\u001b[0m model \u001b[38;5;241m=\u001b[39m tf\u001b[38;5;241m.\u001b[39mkeras\u001b[38;5;241m.\u001b[39mSequential()\n\u001b[0;32m      4\u001b[0m \u001b[38;5;66;03m# Adicionando a camada Reshape como a primeira camada e definindo input_shape\u001b[39;00m\n\u001b[0;32m      5\u001b[0m model\u001b[38;5;241m.\u001b[39madd(tf\u001b[38;5;241m.\u001b[39mkeras\u001b[38;5;241m.\u001b[39mlayers\u001b[38;5;241m.\u001b[39mReshape((\u001b[38;5;241m1\u001b[39m, \u001b[38;5;241m22\u001b[39m, \u001b[38;5;241m1\u001b[39m), input_shape\u001b[38;5;241m=\u001b[39m(\u001b[38;5;241m1\u001b[39m, \u001b[38;5;241m22\u001b[39m)))\n",
      "\u001b[1;31mNameError\u001b[0m: name 'tf' is not defined"
     ]
    }
   ],
   "source": []
  }
 ],
 "metadata": {
  "kernelspec": {
   "display_name": "base",
   "language": "python",
   "name": "python3"
  },
  "language_info": {
   "codemirror_mode": {
    "name": "ipython",
    "version": 3
   },
   "file_extension": ".py",
   "mimetype": "text/x-python",
   "name": "python",
   "nbconvert_exporter": "python",
   "pygments_lexer": "ipython3",
   "version": "3.11.4"
  },
  "orig_nbformat": 4
 },
 "nbformat": 4,
 "nbformat_minor": 2
}
